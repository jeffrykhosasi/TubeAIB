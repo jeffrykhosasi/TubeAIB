{
 "cells": [
  {
   "cell_type": "code",
   "execution_count": 2,
   "metadata": {},
   "outputs": [],
   "source": [
    "# Import libraries\n",
    "import pandas as pd\n",
    "import seaborn as sns\n",
    "import matplotlib\n",
    "import matplotlib.pyplot as plt\n",
    "import numpy as np"
   ]
  },
  {
   "cell_type": "code",
   "execution_count": 3,
   "metadata": {},
   "outputs": [],
   "source": [
    "# Read csv files\n",
    "df_isClick = pd.read_csv(\"./wns-wizard-av/Train/train.csv\")\n",
    "df_itemData = pd.read_csv(\"./wns-wizard-av/Train/item_data.csv\")\n",
    "df_viewLog = pd.read_csv(\"./wns-wizard-av/Train/view_log.csv\")"
   ]
  },
  {
   "cell_type": "code",
   "execution_count": 4,
   "metadata": {},
   "outputs": [
    {
     "data": {
      "text/html": [
       "<div>\n",
       "<style scoped>\n",
       "    .dataframe tbody tr th:only-of-type {\n",
       "        vertical-align: middle;\n",
       "    }\n",
       "\n",
       "    .dataframe tbody tr th {\n",
       "        vertical-align: top;\n",
       "    }\n",
       "\n",
       "    .dataframe thead th {\n",
       "        text-align: right;\n",
       "    }\n",
       "</style>\n",
       "<table border=\"1\" class=\"dataframe\">\n",
       "  <thead>\n",
       "    <tr style=\"text-align: right;\">\n",
       "      <th></th>\n",
       "      <th>impression_id</th>\n",
       "      <th>impression_time</th>\n",
       "      <th>user_id</th>\n",
       "      <th>app_code</th>\n",
       "      <th>os_version</th>\n",
       "      <th>is_4G</th>\n",
       "      <th>is_click</th>\n",
       "    </tr>\n",
       "  </thead>\n",
       "  <tbody>\n",
       "    <tr>\n",
       "      <th>0</th>\n",
       "      <td>c4ca4238a0b923820dcc509a6f75849b</td>\n",
       "      <td>2018-11-15 00:00:00</td>\n",
       "      <td>87862</td>\n",
       "      <td>422</td>\n",
       "      <td>old</td>\n",
       "      <td>0</td>\n",
       "      <td>0</td>\n",
       "    </tr>\n",
       "    <tr>\n",
       "      <th>1</th>\n",
       "      <td>45c48cce2e2d7fbdea1afc51c7c6ad26</td>\n",
       "      <td>2018-11-15 00:01:00</td>\n",
       "      <td>63410</td>\n",
       "      <td>467</td>\n",
       "      <td>latest</td>\n",
       "      <td>1</td>\n",
       "      <td>1</td>\n",
       "    </tr>\n",
       "    <tr>\n",
       "      <th>2</th>\n",
       "      <td>70efdf2ec9b086079795c442636b55fb</td>\n",
       "      <td>2018-11-15 00:02:00</td>\n",
       "      <td>71748</td>\n",
       "      <td>259</td>\n",
       "      <td>intermediate</td>\n",
       "      <td>1</td>\n",
       "      <td>0</td>\n",
       "    </tr>\n",
       "    <tr>\n",
       "      <th>3</th>\n",
       "      <td>8e296a067a37563370ded05f5a3bf3ec</td>\n",
       "      <td>2018-11-15 00:02:00</td>\n",
       "      <td>69209</td>\n",
       "      <td>244</td>\n",
       "      <td>latest</td>\n",
       "      <td>1</td>\n",
       "      <td>0</td>\n",
       "    </tr>\n",
       "    <tr>\n",
       "      <th>4</th>\n",
       "      <td>182be0c5cdcd5072bb1864cdee4d3d6e</td>\n",
       "      <td>2018-11-15 00:02:00</td>\n",
       "      <td>62873</td>\n",
       "      <td>473</td>\n",
       "      <td>latest</td>\n",
       "      <td>0</td>\n",
       "      <td>0</td>\n",
       "    </tr>\n",
       "  </tbody>\n",
       "</table>\n",
       "</div>"
      ],
      "text/plain": [
       "                      impression_id      impression_time  user_id  app_code  \\\n",
       "0  c4ca4238a0b923820dcc509a6f75849b  2018-11-15 00:00:00    87862       422   \n",
       "1  45c48cce2e2d7fbdea1afc51c7c6ad26  2018-11-15 00:01:00    63410       467   \n",
       "2  70efdf2ec9b086079795c442636b55fb  2018-11-15 00:02:00    71748       259   \n",
       "3  8e296a067a37563370ded05f5a3bf3ec  2018-11-15 00:02:00    69209       244   \n",
       "4  182be0c5cdcd5072bb1864cdee4d3d6e  2018-11-15 00:02:00    62873       473   \n",
       "\n",
       "     os_version  is_4G  is_click  \n",
       "0           old      0         0  \n",
       "1        latest      1         1  \n",
       "2  intermediate      1         0  \n",
       "3        latest      1         0  \n",
       "4        latest      0         0  "
      ]
     },
     "execution_count": 4,
     "metadata": {},
     "output_type": "execute_result"
    }
   ],
   "source": [
    "df_isClick.head(5)"
   ]
  },
  {
   "cell_type": "code",
   "execution_count": 5,
   "metadata": {},
   "outputs": [
    {
     "data": {
      "text/html": [
       "<div>\n",
       "<style scoped>\n",
       "    .dataframe tbody tr th:only-of-type {\n",
       "        vertical-align: middle;\n",
       "    }\n",
       "\n",
       "    .dataframe tbody tr th {\n",
       "        vertical-align: top;\n",
       "    }\n",
       "\n",
       "    .dataframe thead th {\n",
       "        text-align: right;\n",
       "    }\n",
       "</style>\n",
       "<table border=\"1\" class=\"dataframe\">\n",
       "  <thead>\n",
       "    <tr style=\"text-align: right;\">\n",
       "      <th></th>\n",
       "      <th>item_id</th>\n",
       "      <th>item_price</th>\n",
       "      <th>category_1</th>\n",
       "      <th>category_2</th>\n",
       "      <th>category_3</th>\n",
       "      <th>product_type</th>\n",
       "    </tr>\n",
       "  </thead>\n",
       "  <tbody>\n",
       "    <tr>\n",
       "      <th>0</th>\n",
       "      <td>26880</td>\n",
       "      <td>4602</td>\n",
       "      <td>11</td>\n",
       "      <td>35</td>\n",
       "      <td>20</td>\n",
       "      <td>3040</td>\n",
       "    </tr>\n",
       "    <tr>\n",
       "      <th>1</th>\n",
       "      <td>54939</td>\n",
       "      <td>3513</td>\n",
       "      <td>12</td>\n",
       "      <td>57</td>\n",
       "      <td>85</td>\n",
       "      <td>6822</td>\n",
       "    </tr>\n",
       "    <tr>\n",
       "      <th>2</th>\n",
       "      <td>40383</td>\n",
       "      <td>825</td>\n",
       "      <td>17</td>\n",
       "      <td>8</td>\n",
       "      <td>279</td>\n",
       "      <td>1619</td>\n",
       "    </tr>\n",
       "    <tr>\n",
       "      <th>3</th>\n",
       "      <td>8777</td>\n",
       "      <td>2355</td>\n",
       "      <td>13</td>\n",
       "      <td>58</td>\n",
       "      <td>189</td>\n",
       "      <td>5264</td>\n",
       "    </tr>\n",
       "    <tr>\n",
       "      <th>4</th>\n",
       "      <td>113705</td>\n",
       "      <td>1267</td>\n",
       "      <td>17</td>\n",
       "      <td>39</td>\n",
       "      <td>151</td>\n",
       "      <td>10239</td>\n",
       "    </tr>\n",
       "  </tbody>\n",
       "</table>\n",
       "</div>"
      ],
      "text/plain": [
       "   item_id  item_price  category_1  category_2  category_3  product_type\n",
       "0    26880        4602          11          35          20          3040\n",
       "1    54939        3513          12          57          85          6822\n",
       "2    40383         825          17           8         279          1619\n",
       "3     8777        2355          13          58         189          5264\n",
       "4   113705        1267          17          39         151         10239"
      ]
     },
     "execution_count": 5,
     "metadata": {},
     "output_type": "execute_result"
    }
   ],
   "source": [
    "df_itemData.head(5)"
   ]
  },
  {
   "cell_type": "code",
   "execution_count": 6,
   "metadata": {},
   "outputs": [
    {
     "data": {
      "text/html": [
       "<div>\n",
       "<style scoped>\n",
       "    .dataframe tbody tr th:only-of-type {\n",
       "        vertical-align: middle;\n",
       "    }\n",
       "\n",
       "    .dataframe tbody tr th {\n",
       "        vertical-align: top;\n",
       "    }\n",
       "\n",
       "    .dataframe thead th {\n",
       "        text-align: right;\n",
       "    }\n",
       "</style>\n",
       "<table border=\"1\" class=\"dataframe\">\n",
       "  <thead>\n",
       "    <tr style=\"text-align: right;\">\n",
       "      <th></th>\n",
       "      <th>server_time</th>\n",
       "      <th>device_type</th>\n",
       "      <th>session_id</th>\n",
       "      <th>user_id</th>\n",
       "      <th>item_id</th>\n",
       "    </tr>\n",
       "  </thead>\n",
       "  <tbody>\n",
       "    <tr>\n",
       "      <th>0</th>\n",
       "      <td>2018-10-15 08:58:00</td>\n",
       "      <td>android</td>\n",
       "      <td>112333</td>\n",
       "      <td>4557</td>\n",
       "      <td>32970</td>\n",
       "    </tr>\n",
       "    <tr>\n",
       "      <th>1</th>\n",
       "      <td>2018-10-15 08:58:00</td>\n",
       "      <td>android</td>\n",
       "      <td>503590</td>\n",
       "      <td>74788</td>\n",
       "      <td>7640</td>\n",
       "    </tr>\n",
       "    <tr>\n",
       "      <th>2</th>\n",
       "      <td>2018-10-15 08:58:00</td>\n",
       "      <td>android</td>\n",
       "      <td>573960</td>\n",
       "      <td>23628</td>\n",
       "      <td>128855</td>\n",
       "    </tr>\n",
       "    <tr>\n",
       "      <th>3</th>\n",
       "      <td>2018-10-15 08:58:00</td>\n",
       "      <td>android</td>\n",
       "      <td>121691</td>\n",
       "      <td>2430</td>\n",
       "      <td>12774</td>\n",
       "    </tr>\n",
       "    <tr>\n",
       "      <th>4</th>\n",
       "      <td>2018-10-15 08:58:00</td>\n",
       "      <td>android</td>\n",
       "      <td>218564</td>\n",
       "      <td>19227</td>\n",
       "      <td>28296</td>\n",
       "    </tr>\n",
       "  </tbody>\n",
       "</table>\n",
       "</div>"
      ],
      "text/plain": [
       "           server_time device_type  session_id  user_id  item_id\n",
       "0  2018-10-15 08:58:00     android      112333     4557    32970\n",
       "1  2018-10-15 08:58:00     android      503590    74788     7640\n",
       "2  2018-10-15 08:58:00     android      573960    23628   128855\n",
       "3  2018-10-15 08:58:00     android      121691     2430    12774\n",
       "4  2018-10-15 08:58:00     android      218564    19227    28296"
      ]
     },
     "execution_count": 6,
     "metadata": {},
     "output_type": "execute_result"
    }
   ],
   "source": [
    "df_viewLog.head(5)"
   ]
  },
  {
   "cell_type": "markdown",
   "metadata": {},
   "source": [
    "# Visualisasi Data"
   ]
  },
  {
   "cell_type": "code",
   "execution_count": 7,
   "metadata": {},
   "outputs": [
    {
     "name": "stdout",
     "output_type": "stream",
     "text": [
      "count       237609\n",
      "unique        1440\n",
      "top       00:01:00\n",
      "freq           736\n",
      "Name: impression_time, dtype: object \n",
      " ================= \n",
      "\n",
      "count     237609\n",
      "unique     74723\n",
      "top        71457\n",
      "freq          73\n",
      "Name: user_id, dtype: object \n",
      " ================= \n",
      "\n",
      "count        10862\n",
      "unique        1364\n",
      "top       00:02:00\n",
      "freq            33\n",
      "Name: impression_time, dtype: object \n",
      " ================= \n",
      "\n",
      "count     10862\n",
      "unique     7656\n",
      "top         784\n",
      "freq         15\n",
      "Name: user_id, dtype: object \n",
      " ================= \n",
      "\n"
     ]
    }
   ],
   "source": [
    "# Describe data isClick\n",
    "## Mengganti column impression time dari object ke datetime column\n",
    "df_temp_time_all = pd.to_datetime(df_isClick['impression_time'], errors='coerce')\n",
    "df_temp_time_isclick = pd.to_datetime(df_isClick[df_isClick['is_click']==1]['impression_time'], errors='coerce')\n",
    "\n",
    "## Mencetak gambaran data\n",
    "print(df_temp_time_all.dt.time.describe(), \"\\n ================= \\n\")\n",
    "print(df_isClick['user_id'].astype(str).describe(), \"\\n ================= \\n\")\n",
    "print(df_temp_time_isclick.dt.time.describe(), \"\\n ================= \\n\")\n",
    "print(df_isClick[df_isClick['is_click']==1]['user_id'].astype(str).describe(), \"\\n ================= \\n\")"
   ]
  },
  {
   "cell_type": "markdown",
   "metadata": {},
   "source": [
    "## Informasi yang didapat\n",
    "* Impression time yang paling banyak adalah jam 00:01 dan terdapat 736 user pukul segitu yang melihat iklan\n",
    "* User yang paling sering melihat iklan adalah user dengan ID 71457 dengan 73 terpapar iklan\n",
    "* Waktu yang paling banyak orang klik iklan adalah jam 00:02 dengan 33 kali klik\n",
    "* User yang paling sering mengklik iklan adalah user dengan ID 54611 dengan 15 kali klik"
   ]
  },
  {
   "cell_type": "code",
   "execution_count": 8,
   "metadata": {},
   "outputs": [
    {
     "name": "stdout",
     "output_type": "stream",
     "text": [
      "       user_id    app_code      is_4G   is_click\n",
      "count     46.0   46.000000  46.000000  46.000000\n",
      "mean   54611.0  289.695652   0.521739   0.326087\n",
      "std        0.0  107.364565   0.505047   0.473960\n",
      "min    54611.0  151.000000   0.000000   0.000000\n",
      "25%    54611.0  151.000000   0.000000   0.000000\n",
      "50%    54611.0  371.000000   1.000000   0.000000\n",
      "75%    54611.0  371.000000   1.000000   1.000000\n",
      "max    54611.0  371.000000   1.000000   1.000000 \n",
      " ====================== \n",
      "\n",
      "108603    2018-11-30 13:54:00\n",
      "119170    2018-11-28 07:29:00\n",
      "138606    2018-12-03 11:47:00\n",
      "153064    2018-12-01 00:09:00\n",
      "188027    2018-12-07 12:52:00\n",
      "191153    2018-12-08 08:19:00\n",
      "194580    2018-12-05 14:08:00\n",
      "195480    2018-12-05 14:30:00\n",
      "204341    2018-12-10 15:00:00\n",
      "206393    2018-12-11 09:07:00\n",
      "208595    2018-12-06 09:23:00\n",
      "211560    2018-12-11 09:10:00\n",
      "213317    2018-12-06 08:31:00\n",
      "218686    2018-12-08 08:30:00\n",
      "223943    2018-12-09 00:00:00\n",
      "Name: impression_time, dtype: object\n"
     ]
    }
   ],
   "source": [
    "# Eksplorasi data terkait orang yang paling sering klik iklan\n",
    "print(df_isClick[df_isClick['user_id']==54611].describe(), \"\\n ====================== \\n\")\n",
    "print(df_isClick[(df_isClick['user_id']==54611) & (df_isClick['is_click']==1)]['impression_time'])"
   ]
  },
  {
   "cell_type": "markdown",
   "metadata": {},
   "source": [
    "## Informasi yang didapat\n",
    "* orang yang paling sering mengklik iklan dengan jumlah klik 15 kali, terpapar oleh iklan selama 46 kali\n",
    "* Hanya klik di bulan-bulan akhir tahun\n",
    "* Cendering mengklik iklan pada malam hari"
   ]
  },
  {
   "cell_type": "code",
   "execution_count": 16,
   "metadata": {},
   "outputs": [
    {
     "data": {
      "image/png": "[encoded data removed]",
      "text/plain": [
       "<Figure size 720x576 with 4 Axes>"
      ]
     },
     "metadata": {
      "needs_background": "light"
     },
     "output_type": "display_data"
    }
   ],
   "source": [
    "# data dari isClick data frame\n",
    "plt.figure(1)\n",
    "plt.subplot(221)\n",
    "df_isClick['os_version'].value_counts(normalize=False).plot(figsize=(10,8), kind='bar',color='blue')\n",
    "plt.title(\"Frekuensi jenis OS yang digunakan\")\n",
    "plt.ylabel(\"Jumlah os\")\n",
    "plt.xlabel(\"Jenis OS\")\n",
    "\n",
    "plt.subplot(222)\n",
    "df_isClick[df_isClick['is_click'] == 1]['os_version'].value_counts(normalize=False).plot(figsize=(10,8), kind='bar', color='red')\n",
    "plt.title(\"Frekuensi jenis os dengan iklan yang diklik\")\n",
    "plt.ylabel(\"Jumlah OS\")\n",
    "plt.xlabel(\"Jenis OS\")\n",
    "\n",
    "plt.subplot(223)\n",
    "df_isClick['is_4G'].value_counts(normalize=False).plot(figsize=(10,8), kind='bar', color='black')\n",
    "plt.title(\"Frekuensi 4G\")\n",
    "plt.ylabel(\"Jumlah pengguna 4G\")\n",
    "plt.xlabel(\"Menggunakan 4G atau tidak\")\n",
    "\n",
    "plt.subplot(224)\n",
    "df_isClick[df_isClick['is_click'] == 1]['is_4G'].value_counts(normalize=False).plot(figsize=(10,8), kind='bar', color='purple')\n",
    "plt.title(\"Frekuensi 4G yang klik iklan\")\n",
    "plt.ylabel(\"Jumlah pengguna 4G\")\n",
    "plt.xlabel(\"Menggunakan 4G atau tidak\")\n",
    "plt.tight_layout()"
   ]
  },
  {
   "cell_type": "markdown",
   "metadata": {},
   "source": [
    "## Informasi yang di dapat\n",
    "* orang yang klik iklan atau yang terpapar iklan dengan OS paling baru memiliki jumlah paling banyak\n",
    "* jumlah orang dengan 4G terpapar dengan iklan lebih banyak dibandingkan yang tidak 4G. Begitu juga yang mengklik iklan"
   ]
  },
  {
   "cell_type": "code",
   "execution_count": 10,
   "metadata": {},
   "outputs": [
    {
     "name": "stdout",
     "output_type": "stream",
     "text": [
      "count     3118622\n",
      "unique    1014970\n",
      "top        368760\n",
      "freq          192\n",
      "Name: session_id, dtype: object \n",
      " ========================\n",
      "\n",
      "       session_id  user_id        item_id\n",
      "count       192.0    192.0     192.000000\n",
      "mean     368760.0  30341.0   63801.687500\n",
      "std           0.0      0.0   39068.002607\n",
      "min      368760.0  30341.0     929.000000\n",
      "25%      368760.0  30341.0   32865.750000\n",
      "50%      368760.0  30341.0   59542.500000\n",
      "75%      368760.0  30341.0   98431.000000\n",
      "max      368760.0  30341.0  131841.000000 \n",
      " ========================\n",
      "\n",
      "count     3118622\n",
      "unique      89157\n",
      "top         72172\n",
      "freq         2906\n",
      "Name: user_id, dtype: object \n",
      " ========================\n",
      "\n",
      "         session_id  user_id        item_id\n",
      "count  2.906000e+03   2906.0    2906.000000\n",
      "mean   5.412311e+05  72172.0   67671.760840\n",
      "std    3.134032e+05      0.0   42368.258063\n",
      "min    2.990000e+02  72172.0     425.000000\n",
      "25%    2.480560e+05  72172.0   26810.000000\n",
      "50%    5.593350e+05  72172.0   69112.000000\n",
      "75%    8.178070e+05  72172.0  108845.000000\n",
      "max    1.088608e+06  72172.0  132849.000000 \n",
      " ========================\n",
      "\n",
      "count         2906\n",
      "unique         996\n",
      "top       22:56:00\n",
      "freq            17\n",
      "Name: server_time, dtype: object\n"
     ]
    }
   ],
   "source": [
    "# Describe data view log dari server\n",
    "\n",
    "print(df_viewLog['session_id'].astype(str).describe(), \"\\n ========================\\n\")\n",
    "print(df_viewLog[df_viewLog['session_id'] == 368760].describe(), \"\\n ========================\\n\")\n",
    "print(df_viewLog['user_id'].astype(str).describe(), \"\\n ========================\\n\")\n",
    "print(df_viewLog[df_viewLog['user_id']==72172].describe(), \"\\n ========================\\n\")\n",
    "df_time_temp_viewlog = pd.to_datetime(df_viewLog[df_viewLog['user_id']==72172]['server_time'], errors=\"coerce\")\n",
    "print(df_time_temp_viewlog.dt.time.describe())"
   ]
  },
  {
   "cell_type": "markdown",
   "metadata": {},
   "source": [
    "## Informasi yang didapatkan\n",
    "* user dengan ID 30341 memiliki session yang sama dengan sebanyak 192\n",
    "* user dengan ID 72172 adalah user yang paling sering mengunjungi website dengan 2906 kali kunjungan\n",
    "* user yang paling sering mengunjungi website, mengunjungi website paling sering jam 22:56"
   ]
  },
  {
   "cell_type": "code",
   "execution_count": 28,
   "metadata": {},
   "outputs": [
    {
     "data": {
      "text/plain": [
       "Text(0, 0.5, 'jumlah')"
      ]
     },
     "execution_count": 28,
     "metadata": {},
     "output_type": "execute_result"
    },
    {
     "data": {
      "image/png": "[encoded data removed]",
      "text/plain": [
       "<Figure size 1440x1152 with 1 Axes>"
      ]
     },
     "metadata": {
      "needs_background": "light"
     },
     "output_type": "display_data"
    }
   ],
   "source": [
    "# Informasi dari data viewLog\n",
    "plt.figure(1)\n",
    "df_viewLog['device_type'].value_counts(normalize=False).plot(figsize=(20,16), kind='bar', color='blue')\n",
    "plt.title(\"tipe device yang mengakses ke server\", fontsize=20)\n",
    "plt.xlabel(\"jenis device\", fontsize=20)\n",
    "plt.ylabel(\"jumlah\", fontsize=20)"
   ]
  },
  {
   "cell_type": "markdown",
   "metadata": {},
   "source": [
    "## Informasi yang didapat\n",
    "* hampir semua yang mengakses website adalah yang menggunakan android"
   ]
  },
  {
   "cell_type": "code",
   "execution_count": 30,
   "metadata": {},
   "outputs": [
    {
     "data": {
      "image/png": "[encoded data removed]",
      "text/plain": [
       "<Figure size 720x576 with 2 Axes>"
      ]
     },
     "metadata": {
      "needs_background": "light"
     },
     "output_type": "display_data"
    }
   ],
   "source": [
    "df_viewLog[['item_id', 'session_id']].hist(figsize=(10,8), bins=10, color='Y')\n",
    "plt.tight_layout()\n",
    "plt.show()"
   ]
  },
  {
   "cell_type": "markdown",
   "metadata": {},
   "source": [
    "## Informasi yang didapat\n",
    "* Item yang paling laku adalah item dari range ID kurang lebih 70000 sampai 80000"
   ]
  },
  {
   "cell_type": "code",
   "execution_count": null,
   "metadata": {},
   "outputs": [],
   "source": []
  }
 ],
 "metadata": {
  "kernelspec": {
   "display_name": "Python 3",
   "language": "python",
   "name": "python3"
  },
  "language_info": {
   "codemirror_mode": {
    "name": "ipython",
    "version": 3
   },
   "file_extension": ".py",
   "mimetype": "text/x-python",
   "name": "python",
   "nbconvert_exporter": "python",
   "pygments_lexer": "ipython3",
   "version": "3.7.4"
  }
 },
 "nbformat": 4,
 "nbformat_minor": 2
}
